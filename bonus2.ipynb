{
 "cells": [
  {
   "cell_type": "code",
   "execution_count": null,
   "metadata": {},
   "outputs": [],
   "source": [
    "import gym\n",
    "from stable_baselines.common.atari_wrappers import make_atari\n",
    "from stable_baselines.deepq.policies import MlpPolicy, CnnPolicy\n",
    "from stable_baselines import DQN\n",
    "import matplotlib.pyplot as mathplot\n",
    "\n",
    "env = make_atari('BreakoutNoFrameskip-v4')\n",
    "# Creating the Environment using Convolutional Neural Network policy\n",
    "model = DQN(CnnPolicy, env, verbose=1) \n",
    "# Training the Agent\n",
    "model.learn(total_timesteps=10000)\n",
    "rewards=[0]\n",
    "obs = env.reset()\n",
    "episodes = 200\n",
    "for eps in range(episodes):\n",
    "    obs = env.reset()\n",
    "    R = 0\n",
    "    env.render()\n",
    "    while True:\n",
    "        # action, reward, dones and obs\n",
    "        action, _states = model.predict(obs)  \n",
    "        obs, reward, dones, info = env.step(action) \n",
    "        R += reward\n",
    "        if dones:\n",
    "            break\n",
    "    rewards.append(R)\n",
    "env.close()"
   ]
  },
  {
   "cell_type": "code",
   "execution_count": null,
   "metadata": {},
   "outputs": [],
   "source": [
    "mathplot.ylabel(\"Episode Rewards\")\n",
    "mathplot.xlabel(\"Number of Episodes\")\n",
    "mathplot.plot([i for i in range(episodes+1)],rewards)"
   ]
  },
  {
   "cell_type": "code",
   "execution_count": null,
   "metadata": {},
   "outputs": [],
   "source": []
  }
 ],
 "metadata": {
  "kernelspec": {
   "display_name": "Python 3",
   "language": "python",
   "name": "python3"
  },
  "language_info": {
   "codemirror_mode": {
    "name": "ipython",
    "version": 3
   },
   "file_extension": ".py",
   "mimetype": "text/x-python",
   "name": "python",
   "nbconvert_exporter": "python",
   "pygments_lexer": "ipython3",
   "version": "3.5.6"
  }
 },
 "nbformat": 4,
 "nbformat_minor": 2
}
