{
 "cells": [
  {
   "cell_type": "code",
   "execution_count": 6,
   "metadata": {},
   "outputs": [],
   "source": [
    "# importing required libraries\n",
    "import gym\n",
    "import numpy as np\n",
    "import matplotlib.pyplot as mathplot"
   ]
  },
  {
   "cell_type": "code",
   "execution_count": 7,
   "metadata": {},
   "outputs": [
    {
     "name": "stdout",
     "output_type": "stream",
     "text": [
      "--------------------------------------\n",
      "| % time spent exploring  | 2        |\n",
      "| episodes                | 100      |\n",
      "| mean 100 episode reward | 47       |\n",
      "| steps                   | 4652     |\n",
      "--------------------------------------\n"
     ]
    }
   ],
   "source": [
    "from stable_baselines.common.vec_env import DummyVecEnv\n",
    "from stable_baselines.deepq.policies import MlpPolicy\n",
    "from stable_baselines import DQN\n",
    "\n",
    "env = gym.make('CartPole-v1')\n",
    "# Creating the Vectorized environments to ease the Training Process\n",
    "\n",
    "env = DummyVecEnv([lambda: env])  \n",
    "# The algorithm requires a vectorized environment to run\n",
    "\n",
    "model = DQN(MlpPolicy, env, verbose=1)\n",
    "# Training the agent\n",
    "model.learn(total_timesteps=10000)\n",
    "rewards=[0]\n",
    "obs = env.reset()\n",
    "episodes=10000\n",
    "for eps in range(episodes):\n",
    "    obs = env.reset()\n",
    "    R = 0\n",
    "    env.render()\n",
    "    while True:\n",
    "        # action, reward, dones and obs all are array\n",
    "        action, _states = model.predict(obs) \n",
    "        obs, reward, dones, info = env.step(action) \n",
    "        R += reward[0]\n",
    "        if dones[0]:\n",
    "            break\n",
    "    rewards.append(R)"
   ]
  },
  {
   "cell_type": "code",
   "execution_count": 8,
   "metadata": {},
   "outputs": [],
   "source": [
    "env.close()"
   ]
  },
  {
   "cell_type": "code",
   "execution_count": 9,
   "metadata": {},
   "outputs": [
    {
     "data": {
      "text/plain": [
       "[<matplotlib.lines.Line2D at 0x1c39cf9b00>]"
      ]
     },
     "execution_count": 9,
     "metadata": {},
     "output_type": "execute_result"
    },
    {
     "data": {
      "image/png": "[encoded data removed]",
      "text/plain": [
       "<Figure size 432x288 with 1 Axes>"
      ]
     },
     "metadata": {
      "needs_background": "light"
     },
     "output_type": "display_data"
    }
   ],
   "source": [
    "mathplot.ylabel(\"Episode Rewards\")\n",
    "mathplot.xlabel(\"Number of Episodes\")\n",
    "mathplot.plot([i for i in range(episodes+1)],rewards)"
   ]
  },
  {
   "cell_type": "code",
   "execution_count": null,
   "metadata": {},
   "outputs": [],
   "source": []
  }
 ],
 "metadata": {
  "kernelspec": {
   "display_name": "Python 3",
   "language": "python",
   "name": "python3"
  },
  "language_info": {
   "codemirror_mode": {
    "name": "ipython",
    "version": 3
   },
   "file_extension": ".py",
   "mimetype": "text/x-python",
   "name": "python",
   "nbconvert_exporter": "python",
   "pygments_lexer": "ipython3",
   "version": "3.5.6"
  }
 },
 "nbformat": 4,
 "nbformat_minor": 2
}
